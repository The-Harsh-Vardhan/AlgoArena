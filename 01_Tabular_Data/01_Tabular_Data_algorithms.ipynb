{
 "cells": [
  {
   "cell_type": "code",
   "execution_count": 1,
   "id": "018b189e",
   "metadata": {},
   "outputs": [
    {
     "name": "stdout",
     "output_type": "stream",
     "text": [
      "Requirement already satisfied: catboost in c:\\users\\harsh\\appdata\\local\\programs\\python\\python312\\lib\\site-packages (1.2.8)\n",
      "Requirement already satisfied: graphviz in c:\\users\\harsh\\appdata\\local\\programs\\python\\python312\\lib\\site-packages (from catboost) (0.21)\n",
      "Requirement already satisfied: matplotlib in c:\\users\\harsh\\appdata\\local\\programs\\python\\python312\\lib\\site-packages (from catboost) (3.9.1)\n",
      "Requirement already satisfied: numpy<3.0,>=1.16.0 in c:\\users\\harsh\\appdata\\local\\programs\\python\\python312\\lib\\site-packages (from catboost) (1.26.3)\n",
      "Requirement already satisfied: pandas>=0.24 in c:\\users\\harsh\\appdata\\local\\programs\\python\\python312\\lib\\site-packages (from catboost) (2.2.2)\n",
      "Requirement already satisfied: scipy in c:\\users\\harsh\\appdata\\local\\programs\\python\\python312\\lib\\site-packages (from catboost) (1.14.0)\n",
      "Requirement already satisfied: plotly in c:\\users\\harsh\\appdata\\local\\programs\\python\\python312\\lib\\site-packages (from catboost) (6.1.2)\n",
      "Requirement already satisfied: six in c:\\users\\harsh\\appdata\\local\\programs\\python\\python312\\lib\\site-packages (from catboost) (1.16.0)\n",
      "Requirement already satisfied: python-dateutil>=2.8.2 in c:\\users\\harsh\\appdata\\local\\programs\\python\\python312\\lib\\site-packages (from pandas>=0.24->catboost) (2.8.2)\n",
      "Requirement already satisfied: pytz>=2020.1 in c:\\users\\harsh\\appdata\\local\\programs\\python\\python312\\lib\\site-packages (from pandas>=0.24->catboost) (2023.3.post1)\n",
      "Requirement already satisfied: tzdata>=2022.7 in c:\\users\\harsh\\appdata\\local\\programs\\python\\python312\\lib\\site-packages (from pandas>=0.24->catboost) (2023.4)\n",
      "Requirement already satisfied: contourpy>=1.0.1 in c:\\users\\harsh\\appdata\\local\\programs\\python\\python312\\lib\\site-packages (from matplotlib->catboost) (1.2.1)\n",
      "Requirement already satisfied: cycler>=0.10 in c:\\users\\harsh\\appdata\\local\\programs\\python\\python312\\lib\\site-packages (from matplotlib->catboost) (0.12.1)\n",
      "Requirement already satisfied: fonttools>=4.22.0 in c:\\users\\harsh\\appdata\\local\\programs\\python\\python312\\lib\\site-packages (from matplotlib->catboost) (4.53.1)\n",
      "Requirement already satisfied: kiwisolver>=1.3.1 in c:\\users\\harsh\\appdata\\local\\programs\\python\\python312\\lib\\site-packages (from matplotlib->catboost) (1.4.5)\n",
      "Requirement already satisfied: packaging>=20.0 in c:\\users\\harsh\\appdata\\local\\programs\\python\\python312\\lib\\site-packages (from matplotlib->catboost) (24.1)\n",
      "Requirement already satisfied: pillow>=8 in c:\\users\\harsh\\appdata\\local\\programs\\python\\python312\\lib\\site-packages (from matplotlib->catboost) (10.2.0)\n",
      "Requirement already satisfied: pyparsing>=2.3.1 in c:\\users\\harsh\\appdata\\local\\programs\\python\\python312\\lib\\site-packages (from matplotlib->catboost) (3.1.2)\n",
      "Requirement already satisfied: narwhals>=1.15.1 in c:\\users\\harsh\\appdata\\local\\programs\\python\\python312\\lib\\site-packages (from plotly->catboost) (1.41.0)\n"
     ]
    },
    {
     "name": "stderr",
     "output_type": "stream",
     "text": [
      "\n",
      "[notice] A new release of pip is available: 25.0.1 -> 25.2\n",
      "[notice] To update, run: python.exe -m pip install --upgrade pip\n"
     ]
    },
    {
     "name": "stdout",
     "output_type": "stream",
     "text": [
      "Requirement already satisfied: lightgbm in c:\\users\\harsh\\appdata\\local\\programs\\python\\python312\\lib\\site-packages (4.6.0)\n",
      "Requirement already satisfied: numpy>=1.17.0 in c:\\users\\harsh\\appdata\\local\\programs\\python\\python312\\lib\\site-packages (from lightgbm) (1.26.3)\n",
      "Requirement already satisfied: scipy in c:\\users\\harsh\\appdata\\local\\programs\\python\\python312\\lib\\site-packages (from lightgbm) (1.14.0)\n"
     ]
    },
    {
     "name": "stderr",
     "output_type": "stream",
     "text": [
      "\n",
      "[notice] A new release of pip is available: 25.0.1 -> 25.2\n",
      "[notice] To update, run: python.exe -m pip install --upgrade pip\n"
     ]
    },
    {
     "name": "stdout",
     "output_type": "stream",
     "text": [
      "Requirement already satisfied: xgboost in c:\\users\\harsh\\appdata\\local\\programs\\python\\python312\\lib\\site-packages (3.0.3)\n",
      "Requirement already satisfied: numpy in c:\\users\\harsh\\appdata\\local\\programs\\python\\python312\\lib\\site-packages (from xgboost) (1.26.3)\n",
      "Requirement already satisfied: scipy in c:\\users\\harsh\\appdata\\local\\programs\\python\\python312\\lib\\site-packages (from xgboost) (1.14.0)\n"
     ]
    },
    {
     "name": "stderr",
     "output_type": "stream",
     "text": [
      "\n",
      "[notice] A new release of pip is available: 25.0.1 -> 25.2\n",
      "[notice] To update, run: python.exe -m pip install --upgrade pip\n"
     ]
    }
   ],
   "source": [
    "!pip install catboost\n",
    "!pip install lightgbm\n",
    "!pip install xgboost"
   ]
  },
  {
   "cell_type": "code",
   "execution_count": 2,
   "id": "9c3c858c",
   "metadata": {},
   "outputs": [],
   "source": [
    "# 1. IMPORTS\n",
    "import pandas as pd\n",
    "import numpy as np\n",
    "import matplotlib.pyplot as plt\n",
    "import seaborn as sns\n",
    "\n",
    "from sklearn.preprocessing import LabelEncoder, StandardScaler\n",
    "from sklearn.model_selection import train_test_split\n",
    "from sklearn.metrics import accuracy_score, precision_score, recall_score, f1_score, confusion_matrix, classification_report\n",
    "\n",
    "from sklearn.linear_model import LogisticRegression\n",
    "from sklearn.tree import DecisionTreeClassifier\n",
    "from sklearn.ensemble import RandomForestClassifier\n",
    "from sklearn.neighbors import KNeighborsClassifier\n",
    "from sklearn.naive_bayes import GaussianNB\n",
    "from sklearn.svm import SVC\n",
    "\n",
    "import xgboost as xgb\n",
    "import lightgbm as lgb\n",
    "from catboost import CatBoostClassifier\n",
    "\n",
    "from tensorflow.keras.models import Sequential\n",
    "from tensorflow.keras.layers import Dense\n",
    "\n",
    "import json\n",
    "import warnings\n",
    "warnings.filterwarnings(\"ignore\")"
   ]
  },
  {
   "cell_type": "code",
   "execution_count": 3,
   "id": "690e33b5",
   "metadata": {},
   "outputs": [
    {
     "name": "stdout",
     "output_type": "stream",
     "text": [
      "   age         workclass  fnlwgt  education  education-num  \\\n",
      "0   39         State-gov   77516  Bachelors             13   \n",
      "1   50  Self-emp-not-inc   83311  Bachelors             13   \n",
      "2   38           Private  215646    HS-grad              9   \n",
      "3   53           Private  234721       11th              7   \n",
      "4   28           Private  338409  Bachelors             13   \n",
      "\n",
      "       marital-status         occupation   relationship   race     sex  \\\n",
      "0       Never-married       Adm-clerical  Not-in-family  White    Male   \n",
      "1  Married-civ-spouse    Exec-managerial        Husband  White    Male   \n",
      "2            Divorced  Handlers-cleaners  Not-in-family  White    Male   \n",
      "3  Married-civ-spouse  Handlers-cleaners        Husband  Black    Male   \n",
      "4  Married-civ-spouse     Prof-specialty           Wife  Black  Female   \n",
      "\n",
      "   capital-gain  capital-loss  hours-per-week native-country income  \n",
      "0          2174             0              40  United-States  <=50K  \n",
      "1             0             0              13  United-States  <=50K  \n",
      "2             0             0              40  United-States  <=50K  \n",
      "3             0             0              40  United-States  <=50K  \n",
      "4             0             0              40           Cuba  <=50K  \n"
     ]
    }
   ],
   "source": [
    "# 2. LOAD DATA\n",
    "column_names = [\n",
    "    \"age\",\n",
    "    \"workclass\",\n",
    "    \"fnlwgt\",\n",
    "    \"education\",\n",
    "    \"education-num\",\n",
    "    \"marital-status\",\n",
    "    \"occupation\",\n",
    "    \"relationship\",\n",
    "    \"race\",\n",
    "    \"sex\",\n",
    "    \"capital-gain\",\n",
    "    \"capital-loss\",\n",
    "    \"hours-per-week\",\n",
    "    \"native-country\",\n",
    "    \"income\"\n",
    "]\n",
    "\n",
    "# Read the data and skip initial spaces\n",
    "df = pd.read_csv(\"./Dataset/adult.data\", names=column_names, skipinitialspace=True)\n",
    "\n",
    "# Display the first few rows\n",
    "print(df.head())"
   ]
  },
  {
   "cell_type": "code",
   "execution_count": 4,
   "id": "9e6564c0",
   "metadata": {},
   "outputs": [],
   "source": [
    "# 3. DATA CLEANING + ENCODING\n",
    "df.replace('?', np.nan, inplace=True)\n",
    "df.dropna(inplace=True)\n",
    "\n",
    "# Remove whitespace\n",
    "df = df.applymap(lambda x: x.strip() if isinstance(x, str) else x)\n",
    "\n",
    "# Label encode categorical columns\n",
    "cat_cols = df.select_dtypes(include=['object']).columns\n",
    "le = LabelEncoder()\n",
    "for col in cat_cols:\n",
    "    df[col] = le.fit_transform(df[col])"
   ]
  },
  {
   "cell_type": "code",
   "execution_count": 5,
   "id": "d01e8c13",
   "metadata": {},
   "outputs": [],
   "source": [
    "# 4. SPLIT DATA\n",
    "X = df.drop(\"income\", axis=1)\n",
    "y = df[\"income\"]\n",
    "\n",
    "scaler = StandardScaler()\n",
    "X_scaled = scaler.fit_transform(X)\n",
    "\n",
    "X_train, X_test, y_train, y_test = train_test_split(X_scaled, y, test_size=0.2, random_state=42)"
   ]
  },
  {
   "cell_type": "code",
   "execution_count": 6,
   "id": "4bf6a870",
   "metadata": {},
   "outputs": [],
   "source": [
    "# 5. MODEL FUNCTION\n",
    "def evaluate_model(name, model, X_test, y_test):\n",
    "    y_pred = model.predict(X_test)\n",
    "    acc = accuracy_score(y_test, y_pred)\n",
    "    pre = precision_score(y_test, y_pred)\n",
    "    rec = recall_score(y_test, y_pred)\n",
    "    f1 = f1_score(y_test, y_pred)\n",
    "    results[name] = {\n",
    "        \"accuracy\": acc,\n",
    "        \"precision\": pre,\n",
    "        \"recall\": rec,\n",
    "        \"f1_score\": f1\n",
    "    }\n",
    "    print(f\"{name} done.\")"
   ]
  },
  {
   "cell_type": "code",
   "execution_count": 7,
   "id": "277b3dfe",
   "metadata": {},
   "outputs": [],
   "source": [
    "# 6. INIT RESULTS DICT\n",
    "results = {}"
   ]
  },
  {
   "cell_type": "code",
   "execution_count": 8,
   "id": "43c734cd",
   "metadata": {},
   "outputs": [
    {
     "name": "stdout",
     "output_type": "stream",
     "text": [
      "Logistic Regression done.\n",
      "Decision Tree done.\n",
      "Random Forest done.\n",
      "KNN done.\n",
      "Naive Bayes done.\n",
      "SVM done.\n",
      "XGBoost done.\n",
      "[LightGBM] [Info] Number of positive: 5978, number of negative: 18151\n",
      "[LightGBM] [Info] Auto-choosing row-wise multi-threading, the overhead of testing was 0.003414 seconds.\n",
      "You can set `force_row_wise=true` to remove the overhead.\n",
      "And if memory is not enough, you can set `force_col_wise=true`.\n",
      "[LightGBM] [Info] Total Bins 674\n",
      "[LightGBM] [Info] Number of data points in the train set: 24129, number of used features: 14\n",
      "[LightGBM] [Info] [binary:BoostFromScore]: pavg=0.247752 -> initscore=-1.110640\n",
      "[LightGBM] [Info] Start training from score -1.110640\n",
      "LightGBM done.\n",
      "CatBoost done.\n"
     ]
    }
   ],
   "source": [
    "# 7. MODELS\n",
    "# Logistic Regression\n",
    "lr = LogisticRegression()\n",
    "lr.fit(X_train, y_train)\n",
    "evaluate_model(\"Logistic Regression\", lr, X_test, y_test)\n",
    "\n",
    "# Decision Tree\n",
    "dt = DecisionTreeClassifier()\n",
    "dt.fit(X_train, y_train)\n",
    "evaluate_model(\"Decision Tree\", dt, X_test, y_test)\n",
    "\n",
    "# Random Forest\n",
    "rf = RandomForestClassifier()\n",
    "rf.fit(X_train, y_train)\n",
    "evaluate_model(\"Random Forest\", rf, X_test, y_test)\n",
    "\n",
    "# KNN\n",
    "knn = KNeighborsClassifier()\n",
    "knn.fit(X_train, y_train)\n",
    "evaluate_model(\"KNN\", knn, X_test, y_test)\n",
    "\n",
    "# Naive Bayes\n",
    "nb = GaussianNB()\n",
    "nb.fit(X_train, y_train)\n",
    "evaluate_model(\"Naive Bayes\", nb, X_test, y_test)\n",
    "\n",
    "# SVM\n",
    "svm = SVC()\n",
    "svm.fit(X_train, y_train)\n",
    "evaluate_model(\"SVM\", svm, X_test, y_test)\n",
    "\n",
    "# XGBoost\n",
    "xg = xgb.XGBClassifier(use_label_encoder=False, eval_metric='logloss')\n",
    "xg.fit(X_train, y_train)\n",
    "evaluate_model(\"XGBoost\", xg, X_test, y_test)\n",
    "\n",
    "# LightGBM\n",
    "lg = lgb.LGBMClassifier()\n",
    "lg.fit(X_train, y_train)\n",
    "evaluate_model(\"LightGBM\", lg, X_test, y_test)\n",
    "\n",
    "# CatBoost\n",
    "cb = CatBoostClassifier(verbose=0)\n",
    "cb.fit(X_train, y_train)\n",
    "evaluate_model(\"CatBoost\", cb, X_test, y_test)"
   ]
  },
  {
   "cell_type": "code",
   "execution_count": 9,
   "id": "59acfc41",
   "metadata": {},
   "outputs": [
    {
     "name": "stdout",
     "output_type": "stream",
     "text": [
      "\u001b[1m189/189\u001b[0m \u001b[32m━━━━━━━━━━━━━━━━━━━━\u001b[0m\u001b[37m\u001b[0m \u001b[1m1s\u001b[0m 3ms/step\n",
      "Model: ANN\n",
      "Accuracy: 0.8518150174042765\n",
      "Precision: 0.7438650306748467\n",
      "Recall: 0.6339869281045751\n",
      "F1 Score: 0.68454481298518\n",
      "Confusion Matrix:\n",
      " [[4169  334]\n",
      " [ 560  970]]\n"
     ]
    }
   ],
   "source": [
    "# 8. ANN Model\n",
    "from tensorflow.keras.models import Sequential\n",
    "from tensorflow.keras.layers import Dense\n",
    "\n",
    "# Build the model\n",
    "ann = Sequential()\n",
    "ann.add(Dense(64, input_dim=X_train.shape[1], activation='relu'))\n",
    "ann.add(Dense(32, activation='relu'))\n",
    "ann.add(Dense(1, activation='sigmoid'))\n",
    "\n",
    "# Compile the model\n",
    "ann.compile(loss='binary_crossentropy', optimizer='adam', metrics=['accuracy'])\n",
    "\n",
    "# Train the model\n",
    "ann.fit(X_train, y_train, epochs=10, batch_size=32, verbose=0)\n",
    "\n",
    "# Predict and convert probabilities to binary predictions\n",
    "y_pred_ann = (ann.predict(X_test) > 0.5).astype(\"int32\").flatten()\n",
    "\n",
    "# Convert y_test to integer if it's in string/object format\n",
    "y_test_int = y_test.astype(\"int32\")\n",
    "\n",
    "# Evaluate the model manually (since evaluate_model() expects sklearn-style models)\n",
    "from sklearn.metrics import accuracy_score, precision_score, recall_score, f1_score, confusion_matrix\n",
    "\n",
    "def evaluate_ann(y_true, y_pred):\n",
    "    print(\"Model: ANN\")\n",
    "    print(\"Accuracy:\", accuracy_score(y_true, y_pred))\n",
    "    print(\"Precision:\", precision_score(y_true, y_pred))\n",
    "    print(\"Recall:\", recall_score(y_true, y_pred))\n",
    "    print(\"F1 Score:\", f1_score(y_true, y_pred))\n",
    "    print(\"Confusion Matrix:\\n\", confusion_matrix(y_true, y_pred))\n",
    "\n",
    "# Evaluate ANN\n",
    "evaluate_ann(y_test_int, y_pred_ann)"
   ]
  },
  {
   "cell_type": "code",
   "execution_count": 10,
   "id": "3ffb5a3d",
   "metadata": {},
   "outputs": [
    {
     "data": {
      "application/vnd.microsoft.datawrangler.viewer.v0+json": {
       "columns": [
        {
         "name": "index",
         "rawType": "object",
         "type": "string"
        },
        {
         "name": "accuracy",
         "rawType": "float64",
         "type": "float"
        },
        {
         "name": "precision",
         "rawType": "float64",
         "type": "float"
        },
        {
         "name": "recall",
         "rawType": "float64",
         "type": "float"
        },
        {
         "name": "f1_score",
         "rawType": "float64",
         "type": "float"
        }
       ],
       "ref": "e688f129-3b4c-4fea-b46f-3f7d8c450a8d",
       "rows": [
        [
         "LightGBM",
         "0.8735289242499585",
         "0.7934200459066565",
         "0.6777777777777778",
         "0.7310539302079662"
        ],
        [
         "CatBoost",
         "0.8735289242499585",
         "0.7911921032649962",
         "0.681045751633987",
         "0.7319985950122937"
        ],
        [
         "XGBoost",
         "0.8683905188131941",
         "0.7729970326409495",
         "0.681045751633987",
         "0.7241139680333565"
        ],
        [
         "Random Forest",
         "0.8543013426156141",
         "0.7482837528604119",
         "0.6411764705882353",
         "0.6906019007391764"
        ],
        [
         "SVM",
         "0.8471738770097795",
         "0.7719141323792487",
         "0.5640522875816993",
         "0.6518126888217523"
        ],
        [
         "KNN",
         "0.8257914801922758",
         "0.6767527675276753",
         "0.5993464052287582",
         "0.6357019064124784"
        ],
        [
         "Logistic Regression",
         "0.823139399966849",
         "0.7444561774023232",
         "0.46078431372549017",
         "0.5692369802180056"
        ],
        [
         "Decision Tree",
         "0.8083872037129123",
         "0.6225425950196593",
         "0.6209150326797386",
         "0.6217277486910995"
        ],
        [
         "Naive Bayes",
         "0.7984419028675618",
         "0.7098930481283422",
         "0.34705882352941175",
         "0.466198419666374"
        ]
       ],
       "shape": {
        "columns": 4,
        "rows": 9
       }
      },
      "text/html": [
       "<div>\n",
       "<style scoped>\n",
       "    .dataframe tbody tr th:only-of-type {\n",
       "        vertical-align: middle;\n",
       "    }\n",
       "\n",
       "    .dataframe tbody tr th {\n",
       "        vertical-align: top;\n",
       "    }\n",
       "\n",
       "    .dataframe thead th {\n",
       "        text-align: right;\n",
       "    }\n",
       "</style>\n",
       "<table border=\"1\" class=\"dataframe\">\n",
       "  <thead>\n",
       "    <tr style=\"text-align: right;\">\n",
       "      <th></th>\n",
       "      <th>accuracy</th>\n",
       "      <th>precision</th>\n",
       "      <th>recall</th>\n",
       "      <th>f1_score</th>\n",
       "    </tr>\n",
       "  </thead>\n",
       "  <tbody>\n",
       "    <tr>\n",
       "      <th>LightGBM</th>\n",
       "      <td>0.873529</td>\n",
       "      <td>0.793420</td>\n",
       "      <td>0.677778</td>\n",
       "      <td>0.731054</td>\n",
       "    </tr>\n",
       "    <tr>\n",
       "      <th>CatBoost</th>\n",
       "      <td>0.873529</td>\n",
       "      <td>0.791192</td>\n",
       "      <td>0.681046</td>\n",
       "      <td>0.731999</td>\n",
       "    </tr>\n",
       "    <tr>\n",
       "      <th>XGBoost</th>\n",
       "      <td>0.868391</td>\n",
       "      <td>0.772997</td>\n",
       "      <td>0.681046</td>\n",
       "      <td>0.724114</td>\n",
       "    </tr>\n",
       "    <tr>\n",
       "      <th>Random Forest</th>\n",
       "      <td>0.854301</td>\n",
       "      <td>0.748284</td>\n",
       "      <td>0.641176</td>\n",
       "      <td>0.690602</td>\n",
       "    </tr>\n",
       "    <tr>\n",
       "      <th>SVM</th>\n",
       "      <td>0.847174</td>\n",
       "      <td>0.771914</td>\n",
       "      <td>0.564052</td>\n",
       "      <td>0.651813</td>\n",
       "    </tr>\n",
       "    <tr>\n",
       "      <th>KNN</th>\n",
       "      <td>0.825791</td>\n",
       "      <td>0.676753</td>\n",
       "      <td>0.599346</td>\n",
       "      <td>0.635702</td>\n",
       "    </tr>\n",
       "    <tr>\n",
       "      <th>Logistic Regression</th>\n",
       "      <td>0.823139</td>\n",
       "      <td>0.744456</td>\n",
       "      <td>0.460784</td>\n",
       "      <td>0.569237</td>\n",
       "    </tr>\n",
       "    <tr>\n",
       "      <th>Decision Tree</th>\n",
       "      <td>0.808387</td>\n",
       "      <td>0.622543</td>\n",
       "      <td>0.620915</td>\n",
       "      <td>0.621728</td>\n",
       "    </tr>\n",
       "    <tr>\n",
       "      <th>Naive Bayes</th>\n",
       "      <td>0.798442</td>\n",
       "      <td>0.709893</td>\n",
       "      <td>0.347059</td>\n",
       "      <td>0.466198</td>\n",
       "    </tr>\n",
       "  </tbody>\n",
       "</table>\n",
       "</div>"
      ],
      "text/plain": [
       "                     accuracy  precision    recall  f1_score\n",
       "LightGBM             0.873529   0.793420  0.677778  0.731054\n",
       "CatBoost             0.873529   0.791192  0.681046  0.731999\n",
       "XGBoost              0.868391   0.772997  0.681046  0.724114\n",
       "Random Forest        0.854301   0.748284  0.641176  0.690602\n",
       "SVM                  0.847174   0.771914  0.564052  0.651813\n",
       "KNN                  0.825791   0.676753  0.599346  0.635702\n",
       "Logistic Regression  0.823139   0.744456  0.460784  0.569237\n",
       "Decision Tree        0.808387   0.622543  0.620915  0.621728\n",
       "Naive Bayes          0.798442   0.709893  0.347059  0.466198"
      ]
     },
     "execution_count": 10,
     "metadata": {},
     "output_type": "execute_result"
    }
   ],
   "source": [
    "import os\n",
    "import json\n",
    "\n",
    "# 9. SAVE RESULTS\n",
    "\n",
    "# Ensure the \"tabular\" directory exists\n",
    "os.makedirs(\"tabular\", exist_ok=True)\n",
    "\n",
    "# Save results to JSON file\n",
    "with open(\"tabular/tabular_results.json\", \"w\") as f:\n",
    "    json.dump(results, f, indent=4)\n",
    "\n",
    "# 10. SHOW RESULTS\n",
    "\n",
    "# Convert the results dictionary to a DataFrame and display it\n",
    "results_df = pd.DataFrame(results).T\n",
    "results_df = results_df.sort_values(by=\"accuracy\", ascending=False)\n",
    "results_df"
   ]
  }
 ],
 "metadata": {
  "kernelspec": {
   "display_name": "Python 3",
   "language": "python",
   "name": "python3"
  },
  "language_info": {
   "codemirror_mode": {
    "name": "ipython",
    "version": 3
   },
   "file_extension": ".py",
   "mimetype": "text/x-python",
   "name": "python",
   "nbconvert_exporter": "python",
   "pygments_lexer": "ipython3",
   "version": "3.12.4"
  }
 },
 "nbformat": 4,
 "nbformat_minor": 5
}
